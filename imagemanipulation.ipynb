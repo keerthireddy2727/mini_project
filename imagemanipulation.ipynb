{
 "cells": [
  {
   "cell_type": "code",
   "execution_count": 1,
   "metadata": {},
   "outputs": [],
   "source": [
    "def processImage(inpImage) :\n",
    "    hls = cv2.cvtColor(inpImage,cv2.COLOR_BGR2HLS)\n",
    "    lower_white = np.array([0, 160, 10])\n",
    "    upper_white = np.array([255,255,255])\n",
    "    mask = cv2.inRange(inpImage, lower_white, upper_white)\n",
    "    hls_result = cv2.bitwise_and(inpImage, inpImage, mask = mask)\n",
    "    \n",
    "    \n",
    "    gray = cv2.cvtColor(hls_result, cv2.COLOR_BGR2GRAY)\n",
    "    ret , thresh = cv2.threshold(gray, 160, 255, cv2.THRESH_BINARY)\n",
    "    blur = cv2.GaussianBlur(thresh,(3, 3), 0)\n",
    "    canny = cv2.Canny(blur, 40, 60)\n",
    "    \n",
    "    return image, hls_result, gray, thresh, blur, canny"
   ]
  },
  {
   "cell_type": "code",
   "execution_count": 2,
   "metadata": {},
   "outputs": [],
   "source": [
    "def perspectiveWrap(inpImage) :\n",
    "    \n",
    "    img_size = (inpImage.shape[1], inpImage.shape[0])\n",
    "    \n",
    "    src = np.float32([[590, 440],\n",
    "                     [690, 440],\n",
    "                     [200, 640],\n",
    "                     [1000, 640]])\n",
    "    \n",
    "    dst = np.float32([[200, 0],\n",
    "                     [1200, 0],\n",
    "                     [200, 710],\n",
    "                     [1200, 710]])\n",
    "    \n",
    "    matrix = cv2.getPerspectiveTransform(src, dst)\n",
    "    minv = cv2.getPerspectiveTransform(dst, src)\n",
    "    birdseye = cv2.warpPerspective(inpImage, matrix, img_size)"
   ]
  },
  {
   "cell_type": "code",
   "execution_count": 3,
   "metadata": {},
   "outputs": [
    {
     "ename": "NameError",
     "evalue": "name 'birdseye' is not defined",
     "output_type": "error",
     "traceback": [
      "\u001b[1;31m---------------------------------------------------------------------------\u001b[0m",
      "\u001b[1;31mNameError\u001b[0m                                 Traceback (most recent call last)",
      "\u001b[1;32m<ipython-input-3-69a591f5e9b3>\u001b[0m in \u001b[0;36m<module>\u001b[1;34m\u001b[0m\n\u001b[1;32m----> 1\u001b[1;33m \u001b[0mheight\u001b[0m\u001b[1;33m,\u001b[0m \u001b[0mwidth\u001b[0m \u001b[1;33m=\u001b[0m \u001b[0mbirdseye\u001b[0m\u001b[1;33m.\u001b[0m\u001b[0mshape\u001b[0m\u001b[1;33m[\u001b[0m\u001b[1;33m:\u001b[0m\u001b[1;36m2\u001b[0m\u001b[1;33m]\u001b[0m\u001b[1;33m\u001b[0m\u001b[1;33m\u001b[0m\u001b[0m\n\u001b[0m\u001b[0;32m      2\u001b[0m \u001b[1;33m\u001b[0m\u001b[0m\n\u001b[0;32m      3\u001b[0m \u001b[0mbirdseyeLeft\u001b[0m \u001b[1;33m=\u001b[0m \u001b[0mbirdseye\u001b[0m\u001b[1;33m[\u001b[0m\u001b[1;36m0\u001b[0m\u001b[1;33m:\u001b[0m\u001b[0mheight\u001b[0m\u001b[1;33m,\u001b[0m \u001b[1;36m0\u001b[0m\u001b[1;33m:\u001b[0m\u001b[0mwidth\u001b[0m \u001b[1;33m//\u001b[0m \u001b[1;36m2\u001b[0m\u001b[1;33m]\u001b[0m\u001b[1;33m\u001b[0m\u001b[1;33m\u001b[0m\u001b[0m\n\u001b[0;32m      4\u001b[0m \u001b[0mbirdseyeRight\u001b[0m \u001b[1;33m=\u001b[0m \u001b[0mbirdseye\u001b[0m\u001b[1;33m[\u001b[0m\u001b[1;36m0\u001b[0m\u001b[1;33m:\u001b[0m\u001b[0mheight\u001b[0m\u001b[1;33m,\u001b[0m \u001b[0mwidth\u001b[0m \u001b[1;33m//\u001b[0m \u001b[1;36m2\u001b[0m\u001b[1;33m:\u001b[0m\u001b[0mwidth\u001b[0m\u001b[1;33m]\u001b[0m\u001b[1;33m\u001b[0m\u001b[1;33m\u001b[0m\u001b[0m\n\u001b[0;32m      5\u001b[0m \u001b[1;33m\u001b[0m\u001b[0m\n",
      "\u001b[1;31mNameError\u001b[0m: name 'birdseye' is not defined"
     ]
    }
   ],
   "source": [
    "height, width = birdseye.shape[:2]\n",
    "\n",
    "birdseyeLeft = birdseye[0:height, 0:width // 2]\n",
    "birdseyeRight = birdseye[0:height, width // 2:width]\n",
    "\n",
    "cv2.imshow(\"Birdseye\", birdseye)\n",
    "cv2.imshow(\"Birdseye Left\", birdseyeLeft)"
   ]
  },
  {
   "cell_type": "code",
   "execution_count": 4,
   "metadata": {},
   "outputs": [],
   "source": [
    "def plotHistogram(inpImage) :\n",
    "    histogram = np.sum(inpImage[inpImage.shape[0] // 2:, :], axis = 0)\n",
    "    \n",
    "    midpoint = np.int(histogram.shape[0]/2)\n",
    "    leftxBase = np.argmax(histogram[:midpoint])\n",
    "    rightxBase = np.argmax(histogram[mispoint:]) + midpoint\n",
    "    \n",
    "    plt.xlabel(\"Image X Coordinates\")\n",
    "    plt.ylabel(\"Number of White Pixels\")\n",
    "    \n",
    "    return histogram, leftxBase , rightxBase"
   ]
  },
  {
   "cell_type": "code",
   "execution_count": null,
   "metadata": {},
   "outputs": [],
   "source": []
  }
 ],
 "metadata": {
  "kernelspec": {
   "display_name": "Python 3",
   "language": "python",
   "name": "python3"
  },
  "language_info": {
   "codemirror_mode": {
    "name": "ipython",
    "version": 3
   },
   "file_extension": ".py",
   "mimetype": "text/x-python",
   "name": "python",
   "nbconvert_exporter": "python",
   "pygments_lexer": "ipython3",
   "version": "3.7.4"
  }
 },
 "nbformat": 4,
 "nbformat_minor": 2
}
